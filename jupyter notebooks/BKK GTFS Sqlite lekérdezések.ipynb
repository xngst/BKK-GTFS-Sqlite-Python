{
 "cells": [
  {
   "cell_type": "markdown",
   "metadata": {},
   "source": [
    "# BKK GTFS Sqlite lekérdezések"
   ]
  },
  {
   "cell_type": "code",
   "execution_count": 1,
   "metadata": {},
   "outputs": [],
   "source": [
    "import sqlite3\n",
    "import time\n",
    "import datetime\n",
    "import pandas as pd\n",
    "\n",
    "from pathlib import Path\n",
    "from time import strftime\n",
    "\n",
    "DB_DIR = Path(\"/home/BKK adatbázis/\")\n",
    "GTFS_DIR = Path(\"/home//GTFS/SQLITE_DB\")"
   ]
  },
  {
   "cell_type": "markdown",
   "metadata": {},
   "source": [
    "## Milyen táblákat tartalmaz a GTFS adabázis?"
   ]
  },
  {
   "cell_type": "code",
   "execution_count": 2,
   "metadata": {},
   "outputs": [],
   "source": [
    "def tables_in_sqlite_db(conn):\n",
    "    cursor = conn.execute(\"SELECT name FROM sqlite_master WHERE type = 'table';\")\n",
    "    tables = [v[0] for v in cursor.fetchall() if v[0] != \"sqlite_sequence\"]\n",
    "    cursor.close()\n",
    "    return tables"
   ]
  },
  {
   "cell_type": "code",
   "execution_count": 3,
   "metadata": {},
   "outputs": [
    {
     "data": {
      "text/plain": [
       "['agency',\n",
       " 'routes',\n",
       " 'trips',\n",
       " 'stop_times',\n",
       " 'stops',\n",
       " 'calendar_dates',\n",
       " 'shapes',\n",
       " 'pathways']"
      ]
     },
     "execution_count": 3,
     "metadata": {},
     "output_type": "execute_result"
    }
   ],
   "source": [
    "con = sqlite3.connect(GTFS_DIR/\"bkk_gtfs_db.db\")\n",
    "tables_in_sqlite_db(con)"
   ]
  },
  {
   "cell_type": "markdown",
   "metadata": {},
   "source": [
    "## Milyen megállói vannak egy bizonyos járatnak?"
   ]
  },
  {
   "cell_type": "code",
   "execution_count": 4,
   "metadata": {},
   "outputs": [],
   "source": [
    "def fetchall(db_path:str, db:str, query:str) -> list:\n",
    "    \"\"\"\n",
    "    path = path to db\n",
    "    db = database\n",
    "    query = SQL query as string\n",
    "    returns list with fetched elements \n",
    "    \"\"\"\n",
    "    path = Path(db_path)\n",
    "    con = sqlite3.connect(path/db)\n",
    "    cur = con.cursor()\n",
    "    cur.execute(query)\n",
    "    rows = cur.fetchall()\n",
    "    con.close()\n",
    "    result = [row for row in rows]\n",
    "    \n",
    "    return result"
   ]
  },
  {
   "cell_type": "code",
   "execution_count": 5,
   "metadata": {},
   "outputs": [],
   "source": [
    "def route_stops(db_path:str, db:str, route:str) -> set:\n",
    "    \"\"\"\n",
    "    returns set of route stops\n",
    "    \"\"\"\n",
    "    query = f'SELECT DISTINCT stops.stop_name\\\n",
    "    FROM routes \\\n",
    "    LEFT OUTER JOIN trips ON trips.route_id = routes.route_id \\\n",
    "    LEFT OUTER JOIN stop_times ON stop_times.trip_id = trips.trip_id \\\n",
    "    LEFT OUTER JOIN stops ON stops.stop_id = stop_times.stop_id \\\n",
    "    WHERE routes.route_short_name = \"{route}\"'\n",
    "    result = set(fetchall(db_path, db, query))\n",
    "    \n",
    "    return result"
   ]
  },
  {
   "cell_type": "code",
   "execution_count": 6,
   "metadata": {},
   "outputs": [
    {
     "data": {
      "text/plain": [
       "{('Boráros tér H',),\n",
       " ('Eötvös tér',),\n",
       " ('Ferencváros vá. - Málenkij Robot Eh.',),\n",
       " ('Fővám tér M',),\n",
       " ('Haller utca / Mester utca',),\n",
       " ('Haller utca / Soroksári út',),\n",
       " ('Jászai Mari tér',),\n",
       " ('Kossuth Lajos tér M',),\n",
       " ('Közvágóhíd H',),\n",
       " ('Mester utca / Könyves Kálmán körút',),\n",
       " ('Március 15. tér',),\n",
       " ('Müpa - Nemzeti Színház H',),\n",
       " ('Országház, látogatóközpont',),\n",
       " ('Széchenyi István tér',),\n",
       " ('Vigadó tér',),\n",
       " ('Vágóhíd utca',),\n",
       " ('Zsil utca',)}"
      ]
     },
     "execution_count": 6,
     "metadata": {},
     "output_type": "execute_result"
    }
   ],
   "source": [
    "route = \"2\"\n",
    "route_stops(GTFS_DIR, \"bkk_gtfs_db.db\", route)"
   ]
  },
  {
   "cell_type": "code",
   "execution_count": 7,
   "metadata": {},
   "outputs": [],
   "source": [
    "def terminal_stations(db_path:str, db:str, route:str) -> tuple:\n",
    "    \"\"\"\n",
    "    \"\"\"\n",
    "    query = 'SELECT route_desc FROM routes\\\n",
    "             WHERE \"route_short_name\"=\"{0}\"'.format(route)\n",
    "    result = fetchall(db_path, db, query)[0]\n",
    "    return result"
   ]
  },
  {
   "cell_type": "code",
   "execution_count": 8,
   "metadata": {},
   "outputs": [
    {
     "data": {
      "text/plain": [
       "('Jászai Mari tér / Közvágóhíd H',)"
      ]
     },
     "execution_count": 8,
     "metadata": {},
     "output_type": "execute_result"
    }
   ],
   "source": [
    "route = \"2\"\n",
    "terminal_stations(GTFS_DIR, \"bkk_gtfs_db.db\", route)"
   ]
  },
  {
   "cell_type": "markdown",
   "metadata": {},
   "source": [
    "### Mikor érkezik a következő járat a megállóba?"
   ]
  },
  {
   "cell_type": "code",
   "execution_count": 9,
   "metadata": {},
   "outputs": [],
   "source": [
    "def route_next_arrival(db_path:str, \n",
    "                       db:str,\n",
    "                       cur_time: datetime.datetime, \n",
    "                       route: str, \n",
    "                       stop_name: str) -> str:\n",
    "    \"\"\"\n",
    "    \"\"\"\n",
    "    cur_date = cur_time.strftime(\"%Y%m%d\")\n",
    "    cur_time = datetime.datetime.now().strftime(\"%H:%M:%S\")\n",
    "    query = f'SELECT calendar_dates.date, stop_times.arrival_time, stops.stop_name \\\n",
    "                    FROM stops \\\n",
    "                    LEFT OUTER JOIN stop_times ON stop_times.stop_id = stops.stop_id \\\n",
    "                    LEFT OUTER JOIN trips ON trips.trip_id = stop_times.trip_id \\\n",
    "                    LEFT OUTER JOIN calendar_dates ON calendar_dates.service_id = trips.service_id \\\n",
    "                    LEFT OUTER JOIN routes ON routes.route_id = trips.route_id \\\n",
    "                    WHERE calendar_dates.date = \"{cur_date}\" AND route_short_name = \"{route}\"'\n",
    "    result = fetchall(db_path, db, query)\n",
    "    df = pd.DataFrame(result, columns = [\"Date\", \"Arrival\", \"Stop\"])\n",
    "    newdf = df[(df[\"Arrival\"] > cur_time) & (df[\"Stop\"] == stop_name)]\n",
    "    newdf.sort_values(by=\"Arrival\").reset_index(inplace=True, drop=True)\n",
    "    arrival = newdf.iloc[0][\"Arrival\"]\n",
    "    return arrival"
   ]
  },
  {
   "cell_type": "code",
   "execution_count": 10,
   "metadata": {},
   "outputs": [
    {
     "name": "stdout",
     "output_type": "stream",
     "text": [
      "pontos idő: 20:41:55\n",
      "következő járat:\n"
     ]
    },
    {
     "data": {
      "text/plain": [
       "'20:44:00'"
      ]
     },
     "execution_count": 10,
     "metadata": {},
     "output_type": "execute_result"
    }
   ],
   "source": [
    "print(\"pontos idő:\", datetime.datetime.now().strftime(\"%H:%M:%S\"))\n",
    "print(\"következő járat:\")\n",
    "route_next_arrival(db_path=GTFS_DIR,\n",
    "                   db=\"bkk_gtfs_db.db\",\n",
    "                   cur_time = datetime.datetime.now(),\n",
    "                   route=\"9\",\n",
    "                   stop_name=\"Astoria M\")"
   ]
  },
  {
   "cell_type": "code",
   "execution_count": null,
   "metadata": {},
   "outputs": [],
   "source": []
  }
 ],
 "metadata": {
  "kernelspec": {
   "display_name": "Python 3",
   "language": "python",
   "name": "python3"
  },
  "language_info": {
   "codemirror_mode": {
    "name": "ipython",
    "version": 3
   },
   "file_extension": ".py",
   "mimetype": "text/x-python",
   "name": "python",
   "nbconvert_exporter": "python",
   "pygments_lexer": "ipython3",
   "version": "3.7.6"
  }
 },
 "nbformat": 4,
 "nbformat_minor": 4
}
